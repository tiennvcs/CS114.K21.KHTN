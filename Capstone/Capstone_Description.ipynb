{
  "nbformat": 4,
  "nbformat_minor": 0,
  "metadata": {
    "colab": {
      "name": "Capstone Description.ipynb",
      "provenance": [],
      "collapsed_sections": [],
      "authorship_tag": "ABX9TyOk4B4ArFDHzM8xxqVyguxo",
      "include_colab_link": true
    },
    "kernelspec": {
      "name": "python3",
      "display_name": "Python 3"
    }
  },
  "cells": [
    {
      "cell_type": "markdown",
      "metadata": {
        "id": "view-in-github",
        "colab_type": "text"
      },
      "source": [
        "<a href=\"https://colab.research.google.com/github/tiennvuit/CS114.K21.KHTN/blob/master/Capstone/Capstone_Description.ipynb\" target=\"_parent\"><img src=\"https://colab.research.google.com/assets/colab-badge.svg\" alt=\"Open In Colab\"/></a>"
      ]
    },
    {
      "cell_type": "markdown",
      "metadata": {
        "id": "w1GifRzqcSSf",
        "colab_type": "text"
      },
      "source": [
        "# Mô tả đồ án cuối kỳ\n",
        "\n",
        "\n",
        "-----------------------------"
      ]
    },
    {
      "cell_type": "markdown",
      "metadata": {
        "id": "TlhqQv7kfyKt",
        "colab_type": "text"
      },
      "source": [
        "*Trạng thái*: \n",
        "\n",
        "- **Thu thập dữ liệu.**\n",
        "- Tiền xử lý dữ liệu.\n",
        "- Huấn luyện mô hình.\n",
        "- Kiểm tra mô hình trên tập dữ liệu huấn luyện và kiểm thử."
      ]
    },
    {
      "cell_type": "markdown",
      "metadata": {
        "id": "RBE_3wHJcWJB",
        "colab_type": "text"
      },
      "source": [
        "## 1. Mô tả bài toán"
      ]
    },
    {
      "cell_type": "markdown",
      "metadata": {
        "id": "ZXG9KjTPchZ0",
        "colab_type": "text"
      },
      "source": [
        "\n",
        "### Tên đồ án: Phát hiện cảnh \"nóng\" trong ảnh/video.\n",
        "*   Input: video.\n",
        "*   Output: các cảnh nhạy \"nóng\" trong video.\n",
        "\n"
      ]
    },
    {
      "cell_type": "markdown",
      "metadata": {
        "id": "L2AxUOWzyRTs",
        "colab_type": "text"
      },
      "source": [
        "Mô tả chi tiết cho bài toán:\n",
        "- https://docs.google.com/document/d/1Zuk5qJD1SrMJTh1W-2uFZVJ-vFngzqnLDYienVGPZB8/edit?usp=sharing"
      ]
    },
    {
      "cell_type": "markdown",
      "metadata": {
        "id": "nq9-seDoczb1",
        "colab_type": "text"
      },
      "source": [
        "## 2. Mô tả về bộ dữ liệu"
      ]
    },
    {
      "cell_type": "markdown",
      "metadata": {
        "id": "N1V5WEf1c1v2",
        "colab_type": "text"
      },
      "source": [
        "\n",
        "\n",
        "*   Các thức xây dựng bộ dữ liệu: crawl dữ liệu video/ảnh từ các trang web chuyên phát tán các ảnh/video chứa các cảnh nóng và các hình ảnh/video từ các trang web khác với nội dung không chứa cảnh nóng sau đó xây dựng tập dữ liệu hình ảnh cho bài toán đồng thời gán nhãn 0 (không nhạy cảm) hoặc 1 (nhạy cảm) cho tập dữ liệu. \n",
        "\n",
        "*   Số lượng dữ liệu: khoảng 10000 ảnh bao gồm ảnh chứa cảnh nóng và không chứa cảnh nóng.\n",
        "*   Độ đa dạng: chưa xác định (nhiều chủ đề,...).\n",
        "\n",
        "\n",
        "*   Thao tác tiền xử lý dữ liệu: video được cắt thành các khung hình có kích thước như nhay và lưu dưới dạng ảnh. Gán nhãn dữ liệu.\n",
        "\n",
        "\n",
        "*   Phân chia (split) - train/dev/test: 80/10/10.\n",
        "\n",
        "\n"
      ]
    },
    {
      "cell_type": "markdown",
      "metadata": {
        "id": "V1Zj_eKFd8nV",
        "colab_type": "text"
      },
      "source": [
        "## 2. Mô tả về đặc trưng"
      ]
    },
    {
      "cell_type": "markdown",
      "metadata": {
        "id": "58bECJKBeAG1",
        "colab_type": "text"
      },
      "source": [
        "- Để chọn được đặc trưng cho bài toán phát hiện cảnh nóng này cần phải định nghĩa cảnh \"nóng\" là gì -> xác định các sự kiện, đối tượng cần có để đưa ra dự đoán khung hình này có xuất hiện cảnh nóng.\n",
        "- Các đặc trưng:\n",
        "    + Đặc trưng màu sắc: màu da.\n",
        "    + ....\n",
        "\n",
        "- Tạm thời em nghĩ đến dùng đặc trưng màu sắc cụ thể là xem trong hình ảnh đó có chứa liên tiếp các vùng có màu da hay không.\n",
        "\n",
        "- Về phần rút trích đặt trưng, em đề xuất dùng mạng nơ ron tích chập (CNNs) để rút trích đặc trưng từ ảnh đầu vào."
      ]
    },
    {
      "cell_type": "markdown",
      "metadata": {
        "id": "w7BQ4Srkez8H",
        "colab_type": "text"
      },
      "source": [
        "##  4. Mô tả về thuật toán máy học"
      ]
    },
    {
      "cell_type": "markdown",
      "metadata": {
        "id": "tHQ4EHnJe3e-",
        "colab_type": "text"
      },
      "source": [
        "- Mô hình được huấn luyện từ tập dữ liệu hình ảnh chứa cảnh \"nóng\" và không chứa cảnh \"nóng\" nên được xếp vào bài toán Phân lớp nhị phân (Binary classification).\n",
        "- Mô hình đề xuất cho bài toán là: Suport Vector Machines (SVMs).\n",
        "- Thuật toán huấn luyện cho mô hình là Gradient Descent và các biến thể của Gradient Descent như Batch Gradient Descent, Adam."
      ]
    },
    {
      "cell_type": "markdown",
      "metadata": {
        "id": "n0qCHkuwfnab",
        "colab_type": "text"
      },
      "source": [
        "## 5. Cài đặt, tinh chỉnh tham số"
      ]
    },
    {
      "cell_type": "markdown",
      "metadata": {
        "id": "s48A27nhvz2d",
        "colab_type": "text"
      },
      "source": [
        "- Các tham số cần cài đặt cho mô hình:\n",
        "+ Learning rate: chưa xác định\n",
        "+ Số lượng tầng: chưa xác định\n"
      ]
    },
    {
      "cell_type": "markdown",
      "metadata": {
        "id": "K-f7Ygc6fpmD",
        "colab_type": "text"
      },
      "source": [
        "## 6. Đánh giá kết quả, kết luận"
      ]
    },
    {
      "cell_type": "markdown",
      "metadata": {
        "id": "aYv1p7eUxxZ2",
        "colab_type": "text"
      },
      "source": [
        "Chưa có"
      ]
    }
  ]
}