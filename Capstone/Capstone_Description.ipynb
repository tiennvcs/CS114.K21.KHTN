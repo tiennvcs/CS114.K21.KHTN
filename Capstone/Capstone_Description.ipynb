{
  "nbformat": 4,
  "nbformat_minor": 0,
  "metadata": {
    "colab": {
      "name": "Capstone Description.ipynb",
      "provenance": [],
      "collapsed_sections": [],
      "authorship_tag": "ABX9TyN0ChtlRQT09uom9RP6alNu",
      "include_colab_link": true
    },
    "kernelspec": {
      "name": "python3",
      "display_name": "Python 3"
    }
  },
  "cells": [
    {
      "cell_type": "markdown",
      "metadata": {
        "id": "view-in-github",
        "colab_type": "text"
      },
      "source": [
        "<a href=\"https://colab.research.google.com/github/tiennvuit/CS114.K21.KHTN/blob/master/Capstone/Capstone_Description.ipynb\" target=\"_parent\"><img src=\"https://colab.research.google.com/assets/colab-badge.svg\" alt=\"Open In Colab\"/></a>"
      ]
    },
    {
      "cell_type": "markdown",
      "metadata": {
        "id": "w1GifRzqcSSf",
        "colab_type": "text"
      },
      "source": [
        "# Mô tả đồ án cuối kỳ\n",
        "\n",
        "\n",
        "-----------------------------"
      ]
    },
    {
      "cell_type": "markdown",
      "metadata": {
        "id": "TlhqQv7kfyKt",
        "colab_type": "text"
      },
      "source": [
        "*Trạng thái*: thu thập dữ liệu"
      ]
    },
    {
      "cell_type": "markdown",
      "metadata": {
        "id": "RBE_3wHJcWJB",
        "colab_type": "text"
      },
      "source": [
        "## Tên đồ án: Phát hiện cảnh \"nóng\" trong ảnh/video."
      ]
    },
    {
      "cell_type": "markdown",
      "metadata": {
        "id": "ZXG9KjTPchZ0",
        "colab_type": "text"
      },
      "source": [
        "\n",
        "\n",
        "*   Input: video.\n",
        "*   Output: các cảnh nhạy \"nóng\" trong video.\n",
        "\n"
      ]
    },
    {
      "cell_type": "markdown",
      "metadata": {
        "id": "nq9-seDoczb1",
        "colab_type": "text"
      },
      "source": [
        "## Mô tả về bộ dữ liệu"
      ]
    },
    {
      "cell_type": "markdown",
      "metadata": {
        "id": "N1V5WEf1c1v2",
        "colab_type": "text"
      },
      "source": [
        "\n",
        "\n",
        "*   Các thức xây dựng bộ dữ liệu: crawl dữ liệu video/ảnh từ các trang web chuyên phát tán các thông tin nhạy cảm và các hình ảnh/video từ các trang web sau đó xây dựng tập dữ liệu hình ảnh cho bài toán đồng thời gán nhãn 0 (không nhạy cảm) hoặc 1 (nhạy cảm) cho tập dữ liệu. \n",
        "\n",
        "*   Số lượng dữ liệu: chưa xác định\n",
        "*   Độ đa dạng: chưa xác định (nhiều chủ đề,...).\n",
        "\n",
        "\n",
        "*   Thao tác tiền xử lý dữ liệu: resize\n",
        "\n",
        "\n",
        "*   Phân chia (split) - train/dev/test: 80/10/10.\n",
        "\n",
        "\n"
      ]
    },
    {
      "cell_type": "markdown",
      "metadata": {
        "id": "V1Zj_eKFd8nV",
        "colab_type": "text"
      },
      "source": [
        "## Mô tả về đặc trưng"
      ]
    },
    {
      "cell_type": "markdown",
      "metadata": {
        "id": "58bECJKBeAG1",
        "colab_type": "text"
      },
      "source": [
        "- Để chọn được đặc trưng cho bài toán phát hiện cảnh nóng này cần phải định nghĩa cảnh \"nóng\" là gì -> xác định các sự kiện, đối tượng cần có để đưa ra dự đoán khung hình này có xuất hiện cảnh nóng."
      ]
    },
    {
      "cell_type": "markdown",
      "metadata": {
        "id": "w7BQ4Srkez8H",
        "colab_type": "text"
      },
      "source": [
        "##  4. Mô tả về thuật toán máy học"
      ]
    },
    {
      "cell_type": "markdown",
      "metadata": {
        "id": "tHQ4EHnJe3e-",
        "colab_type": "text"
      },
      "source": [
        "- Mô hình được huấn luyện từ tập dữ liệu hình ảnh chứa cảnh \"nóng\" và không chứa cảnh \"nóng\" nên được xếp vào bài toán Phân lớp nhị phân (Binary classification).\n",
        "- Mô hình có thể thử nghiệm cho bài toán này đó là: Logistic Regression, KNN, SVM, NN, CNNs,...\n",
        "- Thuật toán huấn luyện cho mô hình là Gradient Descent, Adam,..."
      ]
    },
    {
      "cell_type": "markdown",
      "metadata": {
        "id": "n0qCHkuwfnab",
        "colab_type": "text"
      },
      "source": [
        "## 5. Cài đặt, tinh chỉnh tham số"
      ]
    },
    {
      "cell_type": "markdown",
      "metadata": {
        "id": "K-f7Ygc6fpmD",
        "colab_type": "text"
      },
      "source": [
        "## 6. Đánh giá kết quả, kết luận"
      ]
    }
  ]
}