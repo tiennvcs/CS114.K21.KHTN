{
  "nbformat": 4,
  "nbformat_minor": 0,
  "metadata": {
    "colab": {
      "name": "Lab 05. Using Kaggle API.ipynb",
      "provenance": [],
      "authorship_tag": "ABX9TyPBvdxFNzJAZb18V1VZed3U",
      "include_colab_link": true
    },
    "kernelspec": {
      "name": "python3",
      "display_name": "Python 3"
    }
  },
  "cells": [
    {
      "cell_type": "markdown",
      "metadata": {
        "id": "view-in-github",
        "colab_type": "text"
      },
      "source": [
        "<a href=\"https://colab.research.google.com/github/tiennvuit/CS114.K21.KHTN/blob/master/Using_Kaggle_API/Lab_05_Using_Kaggle_API.ipynb\" target=\"_parent\"><img src=\"https://colab.research.google.com/assets/colab-badge.svg\" alt=\"Open In Colab\"/></a>"
      ]
    },
    {
      "cell_type": "markdown",
      "metadata": {
        "id": "zcYSWlCQQ64U",
        "colab_type": "text"
      },
      "source": [
        "## Connect to the repository in Github"
      ]
    },
    {
      "cell_type": "code",
      "metadata": {
        "id": "f6jfV_3wQ5IV",
        "colab_type": "code",
        "colab": {
          "base_uri": "https://localhost:8080/",
          "height": 187
        },
        "outputId": "fad36bbb-0677-4040-dfd1-927bf3d024c0"
      },
      "source": [
        "# Clone the entire repo.\n",
        "!git clone -l -s git://github.com/tiennvuit/CS114.K21.KHTN.git cloned-repo\n",
        "%cd cloned-repo\n",
        "!ls"
      ],
      "execution_count": 1,
      "outputs": [
        {
          "output_type": "stream",
          "text": [
            "Cloning into 'cloned-repo'...\n",
            "warning: --local is ignored\n",
            "remote: Enumerating objects: 142, done.\u001b[K\n",
            "remote: Counting objects:   0% (1/142)\u001b[K\rremote: Counting objects:   1% (2/142)\u001b[K\rremote: Counting objects:   2% (3/142)\u001b[K\rremote: Counting objects:   3% (5/142)\u001b[K\rremote: Counting objects:   4% (6/142)\u001b[K\rremote: Counting objects:   5% (8/142)\u001b[K\rremote: Counting objects:   6% (9/142)\u001b[K\rremote: Counting objects:   7% (10/142)\u001b[K\rremote: Counting objects:   8% (12/142)\u001b[K\rremote: Counting objects:   9% (13/142)\u001b[K\rremote: Counting objects:  10% (15/142)\u001b[K\rremote: Counting objects:  11% (16/142)\u001b[K\rremote: Counting objects:  12% (18/142)\u001b[K\rremote: Counting objects:  13% (19/142)\u001b[K\rremote: Counting objects:  14% (20/142)\u001b[K\rremote: Counting objects:  15% (22/142)\u001b[K\rremote: Counting objects:  16% (23/142)\u001b[K\rremote: Counting objects:  17% (25/142)\u001b[K\rremote: Counting objects:  18% (26/142)\u001b[K\rremote: Counting objects:  19% (27/142)\u001b[K\rremote: Counting objects:  20% (29/142)\u001b[K\rremote: Counting objects:  21% (30/142)\u001b[K\rremote: Counting objects:  22% (32/142)\u001b[K\rremote: Counting objects:  23% (33/142)\u001b[K\rremote: Counting objects:  24% (35/142)\u001b[K\rremote: Counting objects:  25% (36/142)\u001b[K\rremote: Counting objects:  26% (37/142)\u001b[K\rremote: Counting objects:  27% (39/142)\u001b[K\rremote: Counting objects:  28% (40/142)\u001b[K\rremote: Counting objects:  29% (42/142)\u001b[K\rremote: Counting objects:  30% (43/142)\u001b[K\rremote: Counting objects:  31% (45/142)\u001b[K\rremote: Counting objects:  32% (46/142)\u001b[K\rremote: Counting objects:  33% (47/142)\u001b[K\rremote: Counting objects:  34% (49/142)\u001b[K\rremote: Counting objects:  35% (50/142)\u001b[K\rremote: Counting objects:  36% (52/142)\u001b[K\rremote: Counting objects:  37% (53/142)\u001b[K\rremote: Counting objects:  38% (54/142)\u001b[K\rremote: Counting objects:  39% (56/142)\u001b[K\rremote: Counting objects:  40% (57/142)\u001b[K\rremote: Counting objects:  41% (59/142)\u001b[K\rremote: Counting objects:  42% (60/142)\u001b[K\rremote: Counting objects:  43% (62/142)\u001b[K\rremote: Counting objects:  44% (63/142)\u001b[K\rremote: Counting objects:  45% (64/142)\u001b[K\rremote: Counting objects:  46% (66/142)\u001b[K\rremote: Counting objects:  47% (67/142)\u001b[K\rremote: Counting objects:  48% (69/142)\u001b[K\rremote: Counting objects:  49% (70/142)\u001b[K\rremote: Counting objects:  50% (71/142)\u001b[K\rremote: Counting objects:  51% (73/142)\u001b[K\rremote: Counting objects:  52% (74/142)\u001b[K\rremote: Counting objects:  53% (76/142)\u001b[K\rremote: Counting objects:  54% (77/142)\u001b[K\rremote: Counting objects:  55% (79/142)\u001b[K\rremote: Counting objects:  56% (80/142)\u001b[K\rremote: Counting objects:  57% (81/142)\u001b[K\rremote: Counting objects:  58% (83/142)\u001b[K\rremote: Counting objects:  59% (84/142)\u001b[K\rremote: Counting objects:  60% (86/142)\u001b[K\rremote: Counting objects:  61% (87/142)\u001b[K\rremote: Counting objects:  62% (89/142)\u001b[K\rremote: Counting objects:  63% (90/142)\u001b[K\rremote: Counting objects:  64% (91/142)\u001b[K\rremote: Counting objects:  65% (93/142)\u001b[K\rremote: Counting objects:  66% (94/142)\u001b[K\rremote: Counting objects:  67% (96/142)\u001b[K\rremote: Counting objects:  68% (97/142)\u001b[K\rremote: Counting objects:  69% (98/142)\u001b[K\rremote: Counting objects:  70% (100/142)\rremote: Counting objects:  71% (101/142)\u001b[K\rremote: Counting objects:  72% (103/142)\u001b[K\rremote: Counting objects:  73% (104/142)\u001b[K\rremote: Counting objects:  74% (106/142)\u001b[K\rremote: Counting objects:  75% (107/142)\u001b[K\rremote: Counting objects:  76% (108/142)\u001b[K\rremote: Counting objects:  77% (110/142)\u001b[K\rremote: Counting objects:  78% (111/142)\u001b[K\rremote: Counting objects:  79% (113/142)\u001b[K\rremote: Counting objects:  80% (114/142)\u001b[K\rremote: Counting objects:  81% (116/142)\u001b[K\rremote: Counting objects:  82% (117/142)\u001b[K\rremote: Counting objects:  83% (118/142)\u001b[K\rremote: Counting objects:  84% (120/142)\u001b[K\rremote: Counting objects:  85% (121/142)\u001b[K\rremote: Counting objects:  86% (123/142)\u001b[K\rremote: Counting objects:  87% (124/142)\u001b[K\rremote: Counting objects:  88% (125/142)\u001b[K\rremote: Counting objects:  89% (127/142)\u001b[K\rremote: Counting objects:  90% (128/142)\u001b[K\rremote: Counting objects:  91% (130/142)\u001b[K\rremote: Counting objects:  92% (131/142)\u001b[K\rremote: Counting objects:  93% (133/142)\u001b[K\rremote: Counting objects:  94% (134/142)\u001b[K\rremote: Counting objects:  95% (135/142)\u001b[K\rremote: Counting objects:  96% (137/142)\u001b[K\rremote: Counting objects:  97% (138/142)\u001b[K\rremote: Counting objects:  98% (140/142)\u001b[K\rremote: Counting objects:  99% (141/142)\u001b[K\rremote: Counting objects: 100% (142/142)\u001b[K\rremote: Counting objects: 100% (142/142), done.\u001b[K\n",
            "remote: Compressing objects: 100% (112/112), done.\u001b[K\n",
            "remote: Total 142 (delta 51), reused 89 (delta 23), pack-reused 0\u001b[K\n",
            "Receiving objects: 100% (142/142), 5.63 MiB | 3.88 MiB/s, done.\n",
            "Resolving deltas: 100% (51/51), done.\n",
            "/content/cloned-repo\n",
            " GoogleVisionAPI   README.md  \"Use MMLAB's API\"   Using_Kaggle_API\n"
          ],
          "name": "stdout"
        }
      ]
    },
    {
      "cell_type": "code",
      "metadata": {
        "id": "g85wAwwaQ5Hu",
        "colab_type": "code",
        "colab": {
          "base_uri": "https://localhost:8080/",
          "height": 34
        },
        "outputId": "f47c3051-fb03-421c-f55f-685c33391aa5"
      },
      "source": [
        "cd Using_Kaggle_API/"
      ],
      "execution_count": 2,
      "outputs": [
        {
          "output_type": "stream",
          "text": [
            "/content/cloned-repo/Using_Kaggle_API\n"
          ],
          "name": "stdout"
        }
      ]
    },
    {
      "cell_type": "code",
      "metadata": {
        "id": "ora3J6tPRM02",
        "colab_type": "code",
        "colab": {}
      },
      "source": [
        ""
      ],
      "execution_count": 0,
      "outputs": []
    }
  ]
}