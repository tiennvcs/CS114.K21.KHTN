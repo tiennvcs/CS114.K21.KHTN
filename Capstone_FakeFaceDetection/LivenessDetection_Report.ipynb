{
 "cells": [
  {
   "cell_type": "markdown",
   "metadata": {
    "colab_type": "text",
    "id": "d-ShE92jSeWF"
   },
   "source": [
    "# <center>Phát hiện khuôn mặt giả mạo</center>\n"
   ]
  },
  {
   "cell_type": "markdown",
   "metadata": {
    "colab_type": "text",
    "id": "fb9uW7JBg8iu"
   },
   "source": [
    "*Thông tin học viên:*\n",
    "\n",
    "- Tên: Nguyễn Văn Tiến.  \n",
    "\n",
    "- Lớp:  CS114.KHTN.K21.\n",
    "\n",
    "- Năm học 2019-2020.\n",
    "\n",
    "*Thông tin đồ án:*\n",
    "- Repository trên Github: https://github.com/tiennvuit/CS114.K21.KHTN/tree/master/Capstone_FakeFaceDetection\n",
    "- Video demo trên youtube: ........\n",
    "- File báo cáo đồ án (định dạng pptx):\n",
    "- Source code đồ án (có thể xem trên Github): "
   ]
  },
  {
   "cell_type": "code",
   "execution_count": 1,
   "metadata": {
    "colab": {
     "base_uri": "https://localhost:8080/",
     "height": 204
    },
    "colab_type": "code",
    "executionInfo": {
     "elapsed": 5714,
     "status": "ok",
     "timestamp": 1594180796139,
     "user": {
      "displayName": "Nguyễn Văn Tiến",
      "photoUrl": "https://lh3.googleusercontent.com/a-/AOh14Ghets3MMxKSUglWWdyu4A2J4AFFXKRfvxpNC5z-qg=s64",
      "userId": "00501859579560902113"
     },
     "user_tz": -420
    },
    "id": "vgoj5sIZijlc",
    "outputId": "a83a94ce-bc0a-4396-ca4b-609e92d06230"
   },
   "outputs": [
    {
     "name": "stdout",
     "output_type": "stream",
     "text": [
      "Cloning into 'cloned_repo'...\n",
      "remote: Enumerating objects: 378, done.\u001b[K\n",
      "remote: Counting objects: 100% (378/378), done.\u001b[K\n",
      "remote: Compressing objects: 100% (301/301), done.\u001b[K\n",
      "remote: Total 378 (delta 132), reused 229 (delta 53), pack-reused 0\u001b[K\n",
      "Receiving objects: 100% (378/378), 23.04 MiB | 32.73 MiB/s, done.\n",
      "Resolving deltas: 100% (132/132), done.\n",
      "/content/cloned_repo/Capstone_FakeFaceDetection\n",
      "face_detector\t    liveness_demo.py  plot.png\n",
      "gather_examples.py  liveness.model    requirements.txt\n",
      "le.pickle\t    model\t      train.py\n"
     ]
    }
   ],
   "source": [
    "# Clone the entire repo.\n",
    "!git clone https://github.com/tiennvuit/CS114.K21.KHTN cloned_repo\n",
    "%cd cloned_repo/Capstone_FakeFaceDetection/\n",
    "!ls"
   ]
  },
  {
   "cell_type": "markdown",
   "metadata": {
    "colab_type": "text",
    "id": "zbDb25roSpKZ"
   },
   "source": [
    "## <font color=blue> Mô tả bài toán\n",
    "\n",
    "\n",
    "---\n",
    "\n"
   ]
  },
  {
   "cell_type": "markdown",
   "metadata": {
    "colab_type": "text",
    "id": "NMR6Py6lS27b"
   },
   "source": [
    "- Phát biểu bài toán: Phát hiện khuôn mặt trong ảnh /video có phải khuôn mặt giả mạo hay không.\n",
    "\n",
    "- Input: một ảnh/đoạn video/stream video.\n",
    "\n",
    "- Output: khuôn mặt trong ảnh/video có phải là khuôn mặt giả mạo (1 hoặc 0) hay không."
   ]
  },
  {
   "cell_type": "markdown",
   "metadata": {
    "colab_type": "text",
    "id": "QeJaqf7DUUbm"
   },
   "source": [
    "## <font color=blue>Tại sao lại là phát hiện khuôn mặt giả mạo</font>\n",
    "\n",
    "\n",
    "---\n",
    "\n"
   ]
  },
  {
   "cell_type": "markdown",
   "metadata": {
    "colab_type": "text",
    "id": "zD7zUZCvUkJY"
   },
   "source": [
    "- Các hệ thống nhận diện khuôn mặt được áp dụng trong các ứng dụng điểm danh, thanh toán nhằm xác định danh tính của con người thông khuôn mặt của họ. Hệ thống nhận dạng khuôn mặt có thể bị đánh lừa bằng cách sử dụng bức ảnh chân dung của một người đã được chụp lại bằng điện thoại di động hay ảnh được in ra. Vì vậy chúng ta cần phải phân loại xem khuôn mặt được đặt trước camera có phải là khuôn mặt giả mạo hay không để đảm bảo tính an toàn của hệ thống."
   ]
  },
  {
   "cell_type": "markdown",
   "metadata": {
    "colab_type": "text",
    "id": "wJaSmplrWATD"
   },
   "source": [
    "## <font color=blue>Mô tả về bộ dữ liệu<font>\n",
    "\n",
    "\n",
    "---\n"
   ]
  },
  {
   "cell_type": "markdown",
   "metadata": {
    "colab_type": "text",
    "id": "ZDzeqzsEWQ9u"
   },
   "source": [
    "### Cách xây dựng dữ liệu"
   ]
  },
  {
   "cell_type": "markdown",
   "metadata": {
    "colab_type": "text",
    "id": "JQlPanp3Wtbl"
   },
   "source": [
    "- Dữ liệu được thu thập gồm có hai lớp là ảnh chứa khuôn mặt giả thật (0 - Real) và khuôn mặt giả mạo (1 - Fake). \n",
    "\n",
    "- Dữ liệu ảnh chứa khuông mặt thật được rút trích từ video selfie ghi lại khuôn mặt thật của một/nhiều đối tượng. Dữ liệu khuôn mặt giả mạo được rút trích từ:\n",
    "    + Video ghi lại khuôn mặt giả mạo của một/nhiều đối tượng.\n",
    "    + Ảnh chụp khuôn mặt được in ra giấy."
   ]
  },
  {
   "cell_type": "markdown",
   "metadata": {
    "colab_type": "text",
    "id": "hJIS9FSLXP1z"
   },
   "source": [
    "### Quy trình xây dựng bộ dữ liệu"
   ]
  },
  {
   "cell_type": "markdown",
   "metadata": {
    "colab_type": "text",
    "id": "sxauM2Y8Xv7D"
   },
   "source": [
    "#### Xây dựng bộ dữ liệu khuôn mặt thật"
   ]
  },
  {
   "cell_type": "markdown",
   "metadata": {
    "colab_type": "text",
    "id": "Rrni7ssUXYHI"
   },
   "source": [
    "- Bước 1: Sử dụng điện thoại di động ghi lại 30s selfie bản thân khi đang di chuyển (nhằm xây dựng dữ liệu cho lớp dữ liệu khuôn mặt thật).\n",
    "\n",
    "- Bước 2: Sử dụng thuật toán face detection được hỗ trợ trong thư viện OpenCV để cắt các vùng chứa khuôn mặt trong mỗi fame của 2 video ghi được và lưu tương ứng vào hai thư mục là real.\n",
    "\n",
    "- Bước 3: Lặp lại bước 1, 2 đối với người khác."
   ]
  },
  {
   "cell_type": "markdown",
   "metadata": {
    "colab_type": "text",
    "id": "AvYwevYyXkm6"
   },
   "source": [
    "#### Xây dựng bộ dữ liệu khuôn mặt giả mạo từ dữ liệu thật"
   ]
  },
  {
   "cell_type": "markdown",
   "metadata": {
    "colab_type": "text",
    "id": "tGri9FbRXqKn"
   },
   "source": [
    "- Bước 1: Sử dụng điện thoại di động quay đoạn video ghi khuôn mặt thật ở trên(nhằm xây dựng dữ liệu cho lớp khuôn mặt giả mạo).\n",
    "\n",
    "- Bước 2: Sử dụng thuật toán face detection được hỗ trợ trong thư viện OpenCV để cắt các vùng chứa khuôn mặt trong mỗi fame của 2 video ghi được và lưu tương ứng vào hai thư mục là fake.\n",
    "\n",
    "- Bước 3 (giấy in màu): <strike> In tất cả các hình ảnh chứa khuôn mặt thật ở trong bộ dữ liệu real dưới dạng màu. Sử dụng điện thoại di động chụp lại các hình ảnh được in để xây dựng tập dữ liệu fake.</strike>"
   ]
  },
  {
   "cell_type": "markdown",
   "metadata": {
    "colab_type": "text",
    "id": "x3ukencxX4tt"
   },
   "source": [
    "***Một số nhận xét:***\n",
    "\n",
    "- Bộ dữ liệu chưa đa dạng về độ tuổi, giới tính, hình dạng của khuôn mặt người chính vì thế không có tính tổng quát."
   ]
  },
  {
   "cell_type": "markdown",
   "metadata": {},
   "source": [
    "## Tiền xử lý dữ liệu"
   ]
  },
  {
   "cell_type": "markdown",
   "metadata": {},
   "source": [
    "Ảnh khuôn mặt được cắt từ video được tiền xử lý qua một các bước bên dưới:\n",
    "\n",
    "- Loại bỏ các ảnh mờ, ảnh không nhìn rõ khuôn mặt bằng việc cho các ảnh đi qua bộ phát hiện mờ (Blur detection).\n",
    "\n",
    "    Phương pháp tham khảo tại: [Blur detection with OpenCV](https://www.pyimagesearch.com/2015/09/07/blur-detection-with-opencv/)\n",
    "    \n",
    "    \n",
    "- Kiểm tra các bức ảnh đã được lọc ở bước trên (kiểm tra bằng tay) xem có chứa khuôn mặt hay không, nếu không chứa thì xóa."
   ]
  },
  {
   "cell_type": "markdown",
   "metadata": {
    "colab_type": "text",
    "id": "7ebNZdxjYOtd"
   },
   "source": [
    "### Một số thông tin thống kê về tập dữ liệu"
   ]
  },
  {
   "cell_type": "markdown",
   "metadata": {
    "colab_type": "text",
    "id": "hglOqYCsYYNY"
   },
   "source": [
    "- Số lượng dữ liệu: XXXX\n",
    "\n",
    "- Số lượng dữ liệu của mỗi lớp:\n",
    "    + Real:\n",
    "    + Fake:\n",
    "\n",
    "- Độ đa dạng của mặt người: "
   ]
  },
  {
   "cell_type": "markdown",
   "metadata": {
    "colab_type": "text",
    "id": "XAoQfSZOZLcW"
   },
   "source": [
    "## Các phương pháp tiếp cận bài toán\n",
    "\n",
    "---\n",
    "\n"
   ]
  },
  {
   "cell_type": "markdown",
   "metadata": {
    "colab_type": "text",
    "id": "AXHX9AgEZYrD"
   },
   "source": [
    "Có hai cách tiếp cận bài toán là dựa trên đặc trưng do chuyên gia đề xuất (hand-crafted feature) và đặc trưng học sâu (deep learning feature). Các phương pháp cho bài toán phát hiện khuôn mặt giả mạo (liveness detection hay anti fake face spooting), gồm có:\n",
    "\n",
    "1. Texture analysis: sử dụng đặc trưng Local Binary Pattern (LBPs) để rút trích đặc trưng từ vùng chứa khuôn mặt và sử dụng bộ phân lớp SVM cho giai đoạn phân loại thật hay giả mạo.\n",
    "\n",
    "2. Frequency ananlysis.\n",
    "\n",
    "3. Variable focusing analysis.\n",
    "\n",
    "4. Heuristic-based algorithms(thuật toán dựa trên heuristic): gồm có phát hiện sự chuyển động của mắt, môi, chớp mắt. Các thuật toán theo dõi sự chuyển động của mắt và chớp mắt để đảm bảo người dùng không sử dụng ảnh của người khác (vì ảnh không thể nhấp nháy mắt và chuyển động môi).\n",
    "\n",
    "5. Optical flow algorithms.\n",
    "\n",
    "6. 3D face shape.\n",
    "\n",
    "7. Kết hợp các thuật toán trên.\n",
    "\n",
    "\n",
    "Khảo sát về các phương pháp cho bài toán phát hiện khuôn mặt giả mạo qua paper:\n",
    "\n",
    "[ An Overview of Face liveness Detection](https://arxiv.org/pdf/1405.2227.pdf)\n"
   ]
  },
  {
   "cell_type": "markdown",
   "metadata": {
    "colab_type": "text",
    "id": "lSXUVrAobY9k"
   },
   "source": [
    "Bài toán này là bài toán phân lớp nhị phân (binary classification) với hai lớp là <strong><i>real</i></strong> và <strong><i>fake</i></strong>. \n",
    "\n",
    "Trong phần tiếp theo, chúng ta sẽ sử dụng 2 phương pháp tiếp cận là dùng đặc trưng rút trích bằng phương pháp Local Binary Pattern và đặc trưng dựa trên Deep Learning được rút trích từ các kiến trúc mạng dựa trên Convolutional Neural Network (CNNs)."
   ]
  },
  {
   "cell_type": "markdown",
   "metadata": {
    "colab_type": "text",
    "id": "9Xl3WE77cvcD"
   },
   "source": [
    "## Phương pháp dựa trên deep learning\n",
    "\n",
    "\n",
    "---\n",
    "\n"
   ]
  },
  {
   "cell_type": "code",
   "execution_count": 3,
   "metadata": {
    "colab": {},
    "colab_type": "code",
    "executionInfo": {
     "elapsed": 1755,
     "status": "ok",
     "timestamp": 1594180874918,
     "user": {
      "displayName": "Nguyễn Văn Tiến",
      "photoUrl": "https://lh3.googleusercontent.com/a-/AOh14Ghets3MMxKSUglWWdyu4A2J4AFFXKRfvxpNC5z-qg=s64",
      "userId": "00501859579560902113"
     },
     "user_tz": -420
    },
    "id": "sleOZYitkg94"
   },
   "outputs": [],
   "source": [
    "# Import các thư viện cần dùng\n",
    "from model.livenessnet import LivenessNet\n",
    "from sklearn.preprocessing import LabelEncoder\n",
    "from sklearn.model_selection import train_test_split\n",
    "from sklearn.metrics import classification_report\n",
    "from tensorflow.keras.preprocessing.image import ImageDataGenerator\n",
    "from tensorflow.keras.optimizers import Adam\n",
    "from tensorflow.keras.utils import to_categorical\n",
    "from imutils import paths\n",
    "import matplotlib.pyplot as plt\n",
    "import numpy as np\n",
    "import matplotlib\n",
    "matplotlib.use(\"Agg\")\n",
    "\n",
    "import argparse\n",
    "import pickle\n",
    "import cv2\n",
    "import os"
   ]
  },
  {
   "cell_type": "markdown",
   "metadata": {
    "colab_type": "text",
    "id": "kXjlzyymg1O1"
   },
   "source": [
    "### 1. Load dữ liệu"
   ]
  },
  {
   "cell_type": "code",
   "execution_count": 3,
   "metadata": {
    "ExecuteTime": {
     "end_time": "2020-07-09T03:48:29.265542Z",
     "start_time": "2020-07-09T03:48:28.934547Z"
    },
    "colab": {},
    "colab_type": "code",
    "executionInfo": {
     "elapsed": 5686,
     "status": "aborted",
     "timestamp": 1594180796140,
     "user": {
      "displayName": "Nguyễn Văn Tiến",
      "photoUrl": "https://lh3.googleusercontent.com/a-/AOh14Ghets3MMxKSUglWWdyu4A2J4AFFXKRfvxpNC5z-qg=s64",
      "userId": "00501859579560902113"
     },
     "user_tz": -420
    },
    "id": "qSDv3gkiZXR5"
   },
   "outputs": [
    {
     "name": "stdout",
     "output_type": "stream",
     "text": [
      "__pycache__\n",
      "utils.py\n",
      "le.p\n",
      "model20200709-104629\n",
      "model20200709-104431\n",
      "model20200709-104229\n",
      "config.py\n",
      "train.py\n",
      "label.p\n",
      "model20200709-104021\n",
      "gather_examples.py\n",
      "LivenessDetection_Report.ipynb\n",
      "videos\n",
      "blur_detection.py\n",
      "README.md\n",
      "requirements.txt\n",
      "demo.py\n",
      "dataset\n",
      "models\n",
      "Documents\n",
      "face_detector\n"
     ]
    }
   ],
   "source": []
  },
  {
   "cell_type": "markdown",
   "metadata": {
    "colab_type": "text",
    "id": "Au6AZtmid2cT"
   },
   "source": [
    "## <center><font color=blue>Phương pháp rút trích đặt trưng Local Binary Patterns (LBPs) </font></center>"
   ]
  },
  {
   "cell_type": "code",
   "execution_count": null,
   "metadata": {
    "colab": {},
    "colab_type": "code",
    "executionInfo": {
     "elapsed": 5682,
     "status": "aborted",
     "timestamp": 1594180796141,
     "user": {
      "displayName": "Nguyễn Văn Tiến",
      "photoUrl": "https://lh3.googleusercontent.com/a-/AOh14Ghets3MMxKSUglWWdyu4A2J4AFFXKRfvxpNC5z-qg=s64",
      "userId": "00501859579560902113"
     },
     "user_tz": -420
    },
    "id": "45JQCVB3d_DK"
   },
   "outputs": [],
   "source": []
  },
  {
   "cell_type": "markdown",
   "metadata": {},
   "source": [
    "## Thực nghiệm"
   ]
  },
  {
   "cell_type": "markdown",
   "metadata": {},
   "source": [
    "Tại mỗi thời điểm, webcam của máy tính sẽ ghi lại hình ảnh để thực hiện tác vụ phát hiện khuôn mặt giả mạo được mô tả dưới đây:\n",
    "\n",
    "- Bước 1: sử dụng một detector hỗ trợ bởi thư viện OpenCV để phát hiện các khuôn mặt trong mỗi frame hình.\n",
    "\n",
    "- Bước 2: Đưa các khuôn mặt được phát hiện vào mô hình chúng ta đã huấn luyện được để phân loại đó là khuôn mặt thật hay giả mạo.\n",
    "\n",
    "- Bước 3: Thể hiện kết quả qua việc vẽ các bounding boxes (khung hình chữ nhật bao quanh khuôn mặt) và class (fake hoặc real) cho các khuôn mặt xuất hiện tại thời điểm đó."
   ]
  },
  {
   "cell_type": "markdown",
   "metadata": {},
   "source": []
  }
 ],
 "metadata": {
  "colab": {
   "authorship_tag": "ABX9TyOSUvIjsvX9Ore4vUnz5rPR",
   "collapsed_sections": [
    "wJaSmplrWATD",
    "hJIS9FSLXP1z",
    "XAoQfSZOZLcW",
    "Au6AZtmid2cT"
   ],
   "name": "Phát hiện khuôn mặt giả mạo.ipynb",
   "provenance": []
  },
  "kernelspec": {
   "display_name": "Python 3",
   "language": "python",
   "name": "python3"
  },
  "language_info": {
   "codemirror_mode": {
    "name": "ipython",
    "version": 3
   },
   "file_extension": ".py",
   "mimetype": "text/x-python",
   "name": "python",
   "nbconvert_exporter": "python",
   "pygments_lexer": "ipython3",
   "version": "3.7.7"
  },
  "latex_envs": {
   "LaTeX_envs_menu_present": true,
   "autoclose": true,
   "autocomplete": true,
   "bibliofile": "biblio.bib",
   "cite_by": "apalike",
   "current_citInitial": 1,
   "eqLabelWithNumbers": true,
   "eqNumInitial": 1,
   "hotkeys": {
    "equation": "Ctrl-E",
    "itemize": "Ctrl-I"
   },
   "labels_anchors": false,
   "latex_user_defs": false,
   "report_style_numbering": false,
   "user_envs_cfg": false
  },
  "toc": {
   "base_numbering": 1,
   "nav_menu": {},
   "number_sections": false,
   "sideBar": true,
   "skip_h1_title": false,
   "title_cell": "Table of Contents",
   "title_sidebar": "Contents",
   "toc_cell": false,
   "toc_position": {},
   "toc_section_display": true,
   "toc_window_display": true
  }
 },
 "nbformat": 4,
 "nbformat_minor": 1
}
