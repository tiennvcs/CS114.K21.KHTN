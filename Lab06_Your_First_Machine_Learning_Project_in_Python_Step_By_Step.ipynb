{
  "nbformat": 4,
  "nbformat_minor": 0,
  "metadata": {
    "colab": {
      "name": "Lab06. Your First Machine Learning Project in Python Step-By-Step.ipynb",
      "provenance": [],
      "collapsed_sections": [],
      "authorship_tag": "ABX9TyMOTNNkFvNcLokwLvbc+pTZ",
      "include_colab_link": true
    },
    "kernelspec": {
      "name": "python3",
      "display_name": "Python 3"
    }
  },
  "cells": [
    {
      "cell_type": "markdown",
      "metadata": {
        "id": "view-in-github",
        "colab_type": "text"
      },
      "source": [
        "<a href=\"https://colab.research.google.com/github/tiennvuit/CS114.K21.KHTN/blob/master/Lab06_Your_First_Machine_Learning_Project_in_Python_Step_By_Step.ipynb\" target=\"_parent\"><img src=\"https://colab.research.google.com/assets/colab-badge.svg\" alt=\"Open In Colab\"/></a>"
      ]
    },
    {
      "cell_type": "markdown",
      "metadata": {
        "id": "f0dLgEucLZe6",
        "colab_type": "text"
      },
      "source": [
        "# Xây dựng một Project máy học cơ bản theo từng bước\n"
      ]
    },
    {
      "cell_type": "markdown",
      "metadata": {
        "id": "lwzZ19YlLrle",
        "colab_type": "text"
      },
      "source": [
        "Để học tốt máy học thì phải gắn liền lý thuyết và thực hành. Trong hướng dẫn này chúng ta sẽ xây dựng một project máy học đơn giản. Sau khi tham khảo hướng dẫn này thì người đọc sẽ biết được các bước xử lý từ lúc bắt đầu cho đến khi đưa mô hình được đánh giá tốt vào sử dụng."
      ]
    },
    {
      "cell_type": "markdown",
      "metadata": {
        "id": "o3MxZAYFMLu0",
        "colab_type": "text"
      },
      "source": [
        "Với mục tiêu trên, hướng dẫn được chia thành các phần như sau:\n",
        "\n",
        "\n",
        "1.  Cài đặt môi trường.\n",
        "2.  Tải tập dữ liệu\n",
        "3.  Tóm tắt thông tin của tập dữ liệu.\n",
        "4.  Trực quan hóa dữ liệu.\n",
        "5.  Đánh giá một số thuật toán máy học.\n",
        "6.  Sử dụng mô hình để đưa ra dự đoán.\n",
        "\n",
        "\n",
        "\n"
      ]
    },
    {
      "cell_type": "markdown",
      "metadata": {
        "id": "u6Pp09DvOJeY",
        "colab_type": "text"
      },
      "source": [
        "\n",
        "\n",
        "---\n",
        "\n",
        "\n",
        "\n",
        "---\n",
        "\n"
      ]
    },
    {
      "cell_type": "markdown",
      "metadata": {
        "id": "VgRbPiHmNFzz",
        "colab_type": "text"
      },
      "source": [
        "## 1. Tải và cài đặt Python SciPy"
      ]
    },
    {
      "cell_type": "markdown",
      "metadata": {
        "id": "LNQWsAggNRU8",
        "colab_type": "text"
      },
      "source": [
        "There are 5 key libraries that you will need to install. Below is a list of the Python SciPy libraries required for this tutorial:\n",
        "\n",
        "\n",
        "Có 5 thư viện quan trọng mà bạn cần cài đặt, đó là:\n",
        "*   scipy\n",
        "*   numpy\n",
        "*   matplotlib\n",
        "*   pandas\n",
        "*   sklearn"
      ]
    },
    {
      "cell_type": "code",
      "metadata": {
        "id": "msPLKPb5MKd1",
        "colab_type": "code",
        "colab": {
          "base_uri": "https://localhost:8080/",
          "height": 238
        },
        "outputId": "825e3b04-8606-4138-90c1-1a1570165876"
      },
      "source": [
        "! pip install scipy numpy matplotlib pandas sklearn"
      ],
      "execution_count": 1,
      "outputs": [
        {
          "output_type": "stream",
          "text": [
            "Requirement already satisfied: scipy in /usr/local/lib/python3.6/dist-packages (1.4.1)\n",
            "Requirement already satisfied: numpy in /usr/local/lib/python3.6/dist-packages (1.18.4)\n",
            "Requirement already satisfied: matplotlib in /usr/local/lib/python3.6/dist-packages (3.2.1)\n",
            "Requirement already satisfied: pandas in /usr/local/lib/python3.6/dist-packages (1.0.3)\n",
            "Requirement already satisfied: sklearn in /usr/local/lib/python3.6/dist-packages (0.0)\n",
            "Requirement already satisfied: cycler>=0.10 in /usr/local/lib/python3.6/dist-packages (from matplotlib) (0.10.0)\n",
            "Requirement already satisfied: kiwisolver>=1.0.1 in /usr/local/lib/python3.6/dist-packages (from matplotlib) (1.2.0)\n",
            "Requirement already satisfied: python-dateutil>=2.1 in /usr/local/lib/python3.6/dist-packages (from matplotlib) (2.8.1)\n",
            "Requirement already satisfied: pyparsing!=2.0.4,!=2.1.2,!=2.1.6,>=2.0.1 in /usr/local/lib/python3.6/dist-packages (from matplotlib) (2.4.7)\n",
            "Requirement already satisfied: pytz>=2017.2 in /usr/local/lib/python3.6/dist-packages (from pandas) (2018.9)\n",
            "Requirement already satisfied: scikit-learn in /usr/local/lib/python3.6/dist-packages (from sklearn) (0.22.2.post1)\n",
            "Requirement already satisfied: six in /usr/local/lib/python3.6/dist-packages (from cycler>=0.10->matplotlib) (1.12.0)\n",
            "Requirement already satisfied: joblib>=0.11 in /usr/local/lib/python3.6/dist-packages (from scikit-learn->sklearn) (0.15.1)\n"
          ],
          "name": "stdout"
        }
      ]
    },
    {
      "cell_type": "markdown",
      "metadata": {
        "id": "h-eEbHYEN0iA",
        "colab_type": "text"
      },
      "source": [
        "Kiểm tra version các thư viện vừa cài đặt."
      ]
    },
    {
      "cell_type": "code",
      "metadata": {
        "id": "XjtaxBZANsUn",
        "colab_type": "code",
        "colab": {
          "base_uri": "https://localhost:8080/",
          "height": 136
        },
        "outputId": "84ae2aa5-92c6-4fda-a3c3-8981ac416cff"
      },
      "source": [
        "# Python version\n",
        "import sys\n",
        "print('Python: {}'.format(sys.version))\n",
        "# scipy\n",
        "import scipy\n",
        "print('scipy: {}'.format(scipy.__version__))\n",
        "# numpy\n",
        "import numpy\n",
        "print('numpy: {}'.format(numpy.__version__))\n",
        "# matplotlib\n",
        "import matplotlib\n",
        "print('matplotlib: {}'.format(matplotlib.__version__))\n",
        "# pandas\n",
        "import pandas\n",
        "print('pandas: {}'.format(pandas.__version__))\n",
        "# scikit-learn\n",
        "import sklearn\n",
        "print('sklearn: {}'.format(sklearn.__version__))"
      ],
      "execution_count": 2,
      "outputs": [
        {
          "output_type": "stream",
          "text": [
            "Python: 3.6.9 (default, Apr 18 2020, 01:56:04) \n",
            "[GCC 8.4.0]\n",
            "scipy: 1.4.1\n",
            "numpy: 1.18.4\n",
            "matplotlib: 3.2.1\n",
            "pandas: 1.0.3\n",
            "sklearn: 0.22.2.post1\n"
          ],
          "name": "stdout"
        }
      ]
    },
    {
      "cell_type": "markdown",
      "metadata": {
        "id": "BHa7vs_tOLs6",
        "colab_type": "text"
      },
      "source": [
        "## 2. Tải dataset về máy"
      ]
    },
    {
      "cell_type": "markdown",
      "metadata": {
        "id": "3tnSsMo_N_sm",
        "colab_type": "text"
      },
      "source": [
        "\n",
        "\n",
        "---\n",
        "\n"
      ]
    },
    {
      "cell_type": "code",
      "metadata": {
        "id": "GGQ7N1R6N7Hs",
        "colab_type": "code",
        "colab": {}
      },
      "source": [
        ""
      ],
      "execution_count": 0,
      "outputs": []
    }
  ]
}