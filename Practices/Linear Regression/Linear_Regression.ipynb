{
  "nbformat": 4,
  "nbformat_minor": 0,
  "metadata": {
    "colab": {
      "name": "Linear Regression.ipynb",
      "provenance": [],
      "collapsed_sections": [],
      "authorship_tag": "ABX9TyMTrPMtdAfq0REs7ScgTft4",
      "include_colab_link": true
    },
    "kernelspec": {
      "name": "python3",
      "display_name": "Python 3"
    }
  },
  "cells": [
    {
      "cell_type": "markdown",
      "metadata": {
        "id": "view-in-github",
        "colab_type": "text"
      },
      "source": [
        "<a href=\"https://colab.research.google.com/github/tiennvuit/CS114.K21.KHTN/blob/master/Linear_Regression.ipynb\" target=\"_parent\"><img src=\"https://colab.research.google.com/assets/colab-badge.svg\" alt=\"Open In Colab\"/></a>"
      ]
    },
    {
      "cell_type": "markdown",
      "metadata": {
        "id": "RddJfvIFqk4f",
        "colab_type": "text"
      },
      "source": [
        "## Load dataset"
      ]
    },
    {
      "cell_type": "code",
      "metadata": {
        "id": "Hd6epeZrqtSA",
        "colab_type": "code",
        "colab": {}
      },
      "source": [
        "import csv\n",
        "import numpy as np\n",
        "from sklearn.linear_model import LinearRegression\n",
        "import matplotlib.pyplot as plt"
      ],
      "execution_count": 0,
      "outputs": []
    },
    {
      "cell_type": "code",
      "metadata": {
        "id": "Ca2PH09DnxvA",
        "colab_type": "code",
        "colab": {}
      },
      "source": [
        "X = []\n",
        "Y = []\n",
        "\n",
        "with open('data.txt','rt')as f:\n",
        "  data = csv.reader(f)\n",
        "  for row in data:\n",
        "        X.append(float(row[0]))\n",
        "        Y.append(float(row[1]))"
      ],
      "execution_count": 0,
      "outputs": []
    },
    {
      "cell_type": "markdown",
      "metadata": {
        "id": "ySJrJqsTsrL7",
        "colab_type": "text"
      },
      "source": [
        "Visualize 100 điểm dữ liệu, sử dụng Matplotlib"
      ]
    },
    {
      "cell_type": "code",
      "metadata": {
        "id": "x8avfk1Ioj-G",
        "colab_type": "code",
        "colab": {
          "base_uri": "https://localhost:8080/",
          "height": 296
        },
        "outputId": "87442a4f-2412-43f5-c8d1-fe02d0930329"
      },
      "source": [
        "fig, ax = plt.subplots()\n",
        "ax.scatter(X[:100], Y[:100])\n",
        "\n",
        "ax.set_xlabel(\"Số lượng test\")\n",
        "ax.set_ylabel(\"Thời gian thực thi\")\n",
        "ax.set_title(\"Linear Regression Example\")\n",
        "plt.show()"
      ],
      "execution_count": 3,
      "outputs": [
        {
          "output_type": "display_data",
          "data": {
            "image/png": "[encoded data removed]",
            "text/plain": [
              "<Figure size 432x288 with 1 Axes>"
            ]
          },
          "metadata": {
            "tags": [],
            "needs_background": "light"
          }
        }
      ]
    },
    {
      "cell_type": "markdown",
      "metadata": {
        "id": "7SwVYhQ6regL",
        "colab_type": "text"
      },
      "source": [
        "## Chọn thuật toán Linear Regression và huấn luyện mô hình"
      ]
    },
    {
      "cell_type": "code",
      "metadata": {
        "id": "oPt5Bs_2o-0y",
        "colab_type": "code",
        "colab": {
          "base_uri": "https://localhost:8080/",
          "height": 68
        },
        "outputId": "4953bc47-582d-4d3a-9e0e-4432aba2c886"
      },
      "source": [
        "X = np.array([X]).T\n",
        "Y = np.array([Y]).T\n",
        "\n",
        "print(X.shape)\n",
        "print(Y.shape)\n",
        "model = LinearRegression()\n",
        "model.fit(X, Y)\n",
        "\n",
        "print(\"The linear function finding is {}n+{}\".format(model.coef_, model.intercept_))"
      ],
      "execution_count": 4,
      "outputs": [
        {
          "output_type": "stream",
          "text": [
            "(2726, 1)\n",
            "(2726, 1)\n",
            "The linear function finding is [[2.83873362e-07]]n+[-0.05571561]\n"
          ],
          "name": "stdout"
        }
      ]
    },
    {
      "cell_type": "markdown",
      "metadata": {
        "id": "_R3Do8MMrwIW",
        "colab_type": "text"
      },
      "source": [
        "## Testing model"
      ]
    },
    {
      "cell_type": "code",
      "metadata": {
        "id": "KWMb_ARRpYSs",
        "colab_type": "code",
        "colab": {
          "base_uri": "https://localhost:8080/",
          "height": 51
        },
        "outputId": "e31274a9-ec34-41e8-f4b5-426cd70bbe2c"
      },
      "source": [
        "print(\"The accuracy of model on training set {}\".format(model.score(X, Y)))\n",
        "\n",
        "X_test = []\n",
        "Y_test = []\n",
        "with open('test.txt','rt')as f:\n",
        "  data = csv.reader(f)\n",
        "  for row in data:\n",
        "        X_test.append(float(row[0]))\n",
        "        Y_test.append(float(row[1]))\n",
        "X_test = np.array([X_test]).T\n",
        "Y_test = np.array([Y_test]).T\n",
        "\n",
        "print(\"The accuracy of model on training set {}\".format(model.score(X_test, Y_test)))"
      ],
      "execution_count": 10,
      "outputs": [
        {
          "output_type": "stream",
          "text": [
            "The accuracy of model on training set 0.9967857610226702\n",
            "The accuracy of model on training set 0.9972638203253477\n"
          ],
          "name": "stdout"
        }
      ]
    },
    {
      "cell_type": "markdown",
      "metadata": {
        "id": "NZ1kYf02vCUH",
        "colab_type": "text"
      },
      "source": [
        "## Plot the function"
      ]
    },
    {
      "cell_type": "code",
      "metadata": {
        "id": "lc5CV5wzvBcc",
        "colab_type": "code",
        "colab": {
          "base_uri": "https://localhost:8080/",
          "height": 296
        },
        "outputId": "850a25e7-36ac-4b4c-8177-8580725827b5"
      },
      "source": [
        "fig, ax = plt.subplots()\n",
        "ax.scatter(X[:100], Y[:100])\n",
        "\n",
        "ax.set_xlabel(\"Số lượng test\")\n",
        "ax.set_ylabel(\"Thời gian thực thi\")\n",
        "ax.set_title(\"Linear Regression Example\")\n",
        "plt.show()"
      ],
      "execution_count": 13,
      "outputs": [
        {
          "output_type": "display_data",
          "data": {
            "image/png": "[encoded data removed]",
            "text/plain": [
              "<Figure size 432x288 with 1 Axes>"
            ]
          },
          "metadata": {
            "tags": [],
            "needs_background": "light"
          }
        }
      ]
    }
  ]
}