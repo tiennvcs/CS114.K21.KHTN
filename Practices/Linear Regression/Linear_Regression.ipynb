{
  "nbformat": 4,
  "nbformat_minor": 0,
  "metadata": {
    "colab": {
      "name": "Linear Regression.ipynb",
      "provenance": [],
      "collapsed_sections": [],
      "authorship_tag": "ABX9TyNCKfO1PHN1CDMoRECg05eP",
      "include_colab_link": true
    },
    "kernelspec": {
      "name": "python3",
      "display_name": "Python 3"
    }
  },
  "cells": [
    {
      "cell_type": "markdown",
      "metadata": {
        "id": "view-in-github",
        "colab_type": "text"
      },
      "source": [
        "<a href=\"https://colab.research.google.com/github/tiennvuit/CS114.K21.KHTN/blob/master/Practices/Linear%20Regression/Linear_Regression.ipynb\" target=\"_parent\"><img src=\"https://colab.research.google.com/assets/colab-badge.svg\" alt=\"Open In Colab\"/></a>"
      ]
    },
    {
      "cell_type": "code",
      "metadata": {
        "id": "0mI2QM7D2pRu",
        "colab_type": "code",
        "colab": {
          "base_uri": "https://localhost:8080/",
          "height": 136
        },
        "outputId": "096a0fde-58d5-46ed-8d3e-8c016ca08bf1"
      },
      "source": [
        "! git clone https://github.com/tiennvuit/CS114.K21.KHTN"
      ],
      "execution_count": 2,
      "outputs": [
        {
          "output_type": "stream",
          "text": [
            "Cloning into 'CS114.K21.KHTN'...\n",
            "remote: Enumerating objects: 307, done.\u001b[K\n",
            "remote: Counting objects:   0% (1/307)\u001b[K\rremote: Counting objects:   1% (4/307)\u001b[K\rremote: Counting objects:   2% (7/307)\u001b[K\rremote: Counting objects:   3% (10/307)\u001b[K\rremote: Counting objects:   4% (13/307)\u001b[K\rremote: Counting objects:   5% (16/307)\u001b[K\rremote: Counting objects:   6% (19/307)\u001b[K\rremote: Counting objects:   7% (22/307)\u001b[K\rremote: Counting objects:   8% (25/307)\u001b[K\rremote: Counting objects:   9% (28/307)\u001b[K\rremote: Counting objects:  10% (31/307)\u001b[K\rremote: Counting objects:  11% (34/307)\u001b[K\rremote: Counting objects:  12% (37/307)\u001b[K\rremote: Counting objects:  13% (40/307)\u001b[K\rremote: Counting objects:  14% (43/307)\u001b[K\rremote: Counting objects:  15% (47/307)\u001b[K\rremote: Counting objects:  16% (50/307)\u001b[K\rremote: Counting objects:  17% (53/307)\u001b[K\rremote: Counting objects:  18% (56/307)\u001b[K\rremote: Counting objects:  19% (59/307)\u001b[K\rremote: Counting objects:  20% (62/307)\u001b[K\rremote: Counting objects:  21% (65/307)\u001b[K\rremote: Counting objects:  22% (68/307)\u001b[K\rremote: Counting objects:  23% (71/307)\u001b[K\rremote: Counting objects:  24% (74/307)\u001b[K\rremote: Counting objects:  25% (77/307)\u001b[K\rremote: Counting objects:  26% (80/307)\u001b[K\rremote: Counting objects:  27% (83/307)\u001b[K\rremote: Counting objects:  28% (86/307)\u001b[K\rremote: Counting objects:  29% (90/307)\u001b[K\rremote: Counting objects:  30% (93/307)\u001b[K\rremote: Counting objects:  31% (96/307)\u001b[K\rremote: Counting objects:  32% (99/307)\u001b[K\rremote: Counting objects:  33% (102/307)\u001b[K\rremote: Counting objects:  34% (105/307)\u001b[K\rremote: Counting objects:  35% (108/307)\u001b[K\rremote: Counting objects:  36% (111/307)\u001b[K\rremote: Counting objects:  37% (114/307)\u001b[K\rremote: Counting objects:  38% (117/307)\u001b[K\rremote: Counting objects:  39% (120/307)\u001b[K\rremote: Counting objects:  40% (123/307)\u001b[K\rremote: Counting objects:  41% (126/307)\u001b[K\rremote: Counting objects:  42% (129/307)\u001b[K\rremote: Counting objects:  43% (133/307)\u001b[K\rremote: Counting objects:  44% (136/307)\u001b[K\rremote: Counting objects:  45% (139/307)\u001b[K\rremote: Counting objects:  46% (142/307)\u001b[K\rremote: Counting objects:  47% (145/307)\u001b[K\rremote: Counting objects:  48% (148/307)\u001b[K\rremote: Counting objects:  49% (151/307)\u001b[K\rremote: Counting objects:  50% (154/307)\u001b[K\rremote: Counting objects:  51% (157/307)\u001b[K\rremote: Counting objects:  52% (160/307)\u001b[K\rremote: Counting objects:  53% (163/307)\u001b[K\rremote: Counting objects:  54% (166/307)\u001b[K\rremote: Counting objects:  55% (169/307)\u001b[K\rremote: Counting objects:  56% (172/307)\u001b[K\rremote: Counting objects:  57% (175/307)\u001b[K\rremote: Counting objects:  58% (179/307)\u001b[K\rremote: Counting objects:  59% (182/307)\u001b[K\rremote: Counting objects:  60% (185/307)\u001b[K\rremote: Counting objects:  61% (188/307)\u001b[K\rremote: Counting objects:  62% (191/307)\u001b[K\rremote: Counting objects:  63% (194/307)\u001b[K\rremote: Counting objects:  64% (197/307)\u001b[K\rremote: Counting objects:  65% (200/307)\u001b[K\rremote: Counting objects:  66% (203/307)\u001b[K\rremote: Counting objects:  67% (206/307)\u001b[K\rremote: Counting objects:  68% (209/307)\u001b[K\rremote: Counting objects:  69% (212/307)\u001b[K\rremote: Counting objects:  70% (215/307)\u001b[K\rremote: Counting objects:  71% (218/307)\u001b[K\rremote: Counting objects:  72% (222/307)\u001b[K\rremote: Counting objects:  73% (225/307)\u001b[K\rremote: Counting objects:  74% (228/307)\u001b[K\rremote: Counting objects:  75% (231/307)\u001b[K\rremote: Counting objects:  76% (234/307)\u001b[K\rremote: Counting objects:  77% (237/307)\u001b[K\rremote: Counting objects:  78% (240/307)\u001b[K\rremote: Counting objects:  79% (243/307)\u001b[K\rremote: Counting objects:  80% (246/307)\u001b[K\rremote: Counting objects:  81% (249/307)\u001b[K\rremote: Counting objects:  82% (252/307)\u001b[K\rremote: Counting objects:  83% (255/307)\u001b[K\rremote: Counting objects:  84% (258/307)\u001b[K\rremote: Counting objects:  85% (261/307)\u001b[K\rremote: Counting objects:  86% (265/307)\u001b[K\rremote: Counting objects:  87% (268/307)\u001b[K\rremote: Counting objects:  88% (271/307)\u001b[K\rremote: Counting objects:  89% (274/307)\u001b[K\rremote: Counting objects:  90% (277/307)\u001b[K\rremote: Counting objects:  91% (280/307)\u001b[K\rremote: Counting objects:  92% (283/307)\u001b[K\rremote: Counting objects:  93% (286/307)\u001b[K\rremote: Counting objects:  94% (289/307)\u001b[K\rremote: Counting objects:  95% (292/307)\u001b[K\rremote: Counting objects:  96% (295/307)\u001b[K\rremote: Counting objects:  97% (298/307)\u001b[K\rremote: Counting objects:  98% (301/307)\u001b[K\rremote: Counting objects:  99% (304/307)\u001b[K\rremote: Counting objects: 100% (307/307)\u001b[K\rremote: Counting objects: 100% (307/307), done.\u001b[K\n",
            "remote: Compressing objects: 100% (239/239), done.\u001b[K\n",
            "remote: Total 307 (delta 113), reused 189 (delta 50), pack-reused 0\u001b[K\n",
            "Receiving objects: 100% (307/307), 8.12 MiB | 12.65 MiB/s, done.\n",
            "Resolving deltas: 100% (113/113), done.\n"
          ],
          "name": "stdout"
        }
      ]
    },
    {
      "cell_type": "code",
      "metadata": {
        "id": "YFmT0tea2yt3",
        "colab_type": "code",
        "colab": {
          "base_uri": "https://localhost:8080/",
          "height": 34
        },
        "outputId": "4a3658f3-22b6-4e5d-a73c-b0070cd8f2b7"
      },
      "source": [
        "cd CS114.K21.KHTN/Practices/Linear\\ Regression"
      ],
      "execution_count": 1,
      "outputs": [
        {
          "output_type": "stream",
          "text": [
            "/content/CS114.K21.KHTN/Practices/Linear Regression\n"
          ],
          "name": "stdout"
        }
      ]
    },
    {
      "cell_type": "code",
      "metadata": {
        "id": "Hd6epeZrqtSA",
        "colab_type": "code",
        "colab": {}
      },
      "source": [
        "import csv\n",
        "import numpy as np\n",
        "from sklearn.linear_model import LinearRegression\n",
        "import matplotlib.pyplot as plt"
      ],
      "execution_count": 0,
      "outputs": []
    },
    {
      "cell_type": "markdown",
      "metadata": {
        "id": "RddJfvIFqk4f",
        "colab_type": "text"
      },
      "source": [
        "## Load dataset"
      ]
    },
    {
      "cell_type": "code",
      "metadata": {
        "id": "Ca2PH09DnxvA",
        "colab_type": "code",
        "colab": {}
      },
      "source": [
        "X = []\n",
        "Y = []\n",
        "\n",
        "with open('data.txt','rt')as f:\n",
        "    data = csv.reader(f)\n",
        "    for row in data:\n",
        "        vector = np.array([1, float(row[0])*np.log(float(row[0])), float(row[0])**2, float(row[0])])\n",
        "        X.append(vector)\n",
        "        Y.append(float(row[1]))\n",
        "X = np.array(X)\n",
        "Y = np.array(Y)"
      ],
      "execution_count": 0,
      "outputs": []
    },
    {
      "cell_type": "code",
      "metadata": {
        "id": "CWqovNwFD72k",
        "colab_type": "code",
        "colab": {
          "base_uri": "https://localhost:8080/",
          "height": 51
        },
        "outputId": "9356f497-38ad-4dd9-a3d6-4392108a1ad1"
      },
      "source": [
        "print(X.shape)\n",
        "print(Y.shape)"
      ],
      "execution_count": 12,
      "outputs": [
        {
          "output_type": "stream",
          "text": [
            "(2726, 4)\n",
            "(2726,)\n"
          ],
          "name": "stdout"
        }
      ]
    },
    {
      "cell_type": "markdown",
      "metadata": {
        "id": "ySJrJqsTsrL7",
        "colab_type": "text"
      },
      "source": [
        "Visualize 100 điểm dữ liệu, sử dụng Matplotlib"
      ]
    },
    {
      "cell_type": "code",
      "metadata": {
        "id": "x8avfk1Ioj-G",
        "colab_type": "code",
        "outputId": "80d842c6-142a-4a79-fada-89e340567b81",
        "colab": {
          "base_uri": "https://localhost:8080/",
          "height": 296
        }
      },
      "source": [
        "fig, ax = plt.subplots()\n",
        "ax.scatter(X[:, 3], Y)\n",
        "\n",
        "ax.set_xlabel(\"Số lượng test\")\n",
        "ax.set_ylabel(\"Thời gian thực thi\")\n",
        "ax.set_title(\"Linear Regression Example\")\n",
        "plt.show()"
      ],
      "execution_count": 14,
      "outputs": [
        {
          "output_type": "display_data",
          "data": {
            "image/png": "[encoded data removed]",
            "text/plain": [
              "<Figure size 432x288 with 1 Axes>"
            ]
          },
          "metadata": {
            "tags": [],
            "needs_background": "light"
          }
        }
      ]
    },
    {
      "cell_type": "markdown",
      "metadata": {
        "id": "7SwVYhQ6regL",
        "colab_type": "text"
      },
      "source": [
        "## Chọn thuật toán Linear Regression và huấn luyện mô hình"
      ]
    },
    {
      "cell_type": "code",
      "metadata": {
        "id": "oPt5Bs_2o-0y",
        "colab_type": "code",
        "colab": {}
      },
      "source": [
        "X = np.array(X).T\n",
        "Y = np.array(Y).T\n",
        "\n",
        "print(X.shape)\n",
        "print(Y.shape)\n",
        "model = LinearRegression()\n",
        "model.fit(X, Y)\n",
        "\n",
        "print(\"The linear function finding is {}n+{}\".format(model.coef_, model.intercept_))"
      ],
      "execution_count": 0,
      "outputs": []
    },
    {
      "cell_type": "markdown",
      "metadata": {
        "id": "_R3Do8MMrwIW",
        "colab_type": "text"
      },
      "source": [
        "## Testing model"
      ]
    },
    {
      "cell_type": "code",
      "metadata": {
        "id": "KWMb_ARRpYSs",
        "colab_type": "code",
        "colab": {}
      },
      "source": [
        "print(\"The accuracy of model on training set {}\".format(model.score(X, Y)))\n",
        "\n",
        "X_test = []\n",
        "Y_test = []\n",
        "with open('data_test.txt','rt')as f:\n",
        "    data = csv.reader(f)\n",
        "    for row in data:\n",
        "        vector = np.array([1, float(row[0])*np.log(float(row[0])), float(row[0])**2, float(row[0])])\n",
        "        X_test.append(vector)\n",
        "        Y_test.append(float(row[1]))\n",
        "\n",
        "print(\"The accuracy of model on training set {}\".format(model.score(X_test, Y_test)))"
      ],
      "execution_count": 0,
      "outputs": []
    },
    {
      "cell_type": "markdown",
      "metadata": {
        "id": "_kuezTTJC4eM",
        "colab_type": "text"
      },
      "source": [
        "## Draw the function"
      ]
    },
    {
      "cell_type": "code",
      "metadata": {
        "id": "1bLlhUPDC6Sp",
        "colab_type": "code",
        "colab": {}
      },
      "source": [
        "predict_test = model.predict(X_test)\n",
        "\n",
        "fig, ax = plt.subplots()\n",
        "ax.scatter(X[:100], Y[:100])\n",
        "plt.plot(X_test, predict_test)\n",
        "\n",
        "ax.set_xlabel(\"Số lượng test\")\n",
        "ax.set_ylabel(\"Thời gian thực thi\")\n",
        "ax.set_title(\"Linear Regression Example\")\n",
        "plt.show()"
      ],
      "execution_count": 0,
      "outputs": []
    }
  ]
}