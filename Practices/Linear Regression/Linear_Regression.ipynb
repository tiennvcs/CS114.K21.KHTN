{
  "nbformat": 4,
  "nbformat_minor": 0,
  "metadata": {
    "colab": {
      "name": "Linear Regression.ipynb",
      "provenance": [],
      "collapsed_sections": [],
      "authorship_tag": "ABX9TyPLeUFZhDbaUdUgelKSzsmK",
      "include_colab_link": true
    },
    "kernelspec": {
      "name": "python3",
      "display_name": "Python 3"
    }
  },
  "cells": [
    {
      "cell_type": "markdown",
      "metadata": {
        "id": "view-in-github",
        "colab_type": "text"
      },
      "source": [
        "<a href=\"https://colab.research.google.com/github/tiennvuit/CS114.K21.KHTN/blob/master/Practices/Linear%20Regression/Linear_Regression.ipynb\" target=\"_parent\"><img src=\"https://colab.research.google.com/assets/colab-badge.svg\" alt=\"Open In Colab\"/></a>"
      ]
    },
    {
      "cell_type": "code",
      "metadata": {
        "id": "0mI2QM7D2pRu",
        "colab_type": "code",
        "colab": {
          "base_uri": "https://localhost:8080/",
          "height": 34
        },
        "outputId": "3a78a176-b95f-4b4b-b3e2-65a61b0b1ea7"
      },
      "source": [
        "! git clone https://github.com/tiennvuit/CS114.K21.KHTN"
      ],
      "execution_count": 1,
      "outputs": [
        {
          "output_type": "stream",
          "text": [
            "fatal: destination path 'CS114.K21.KHTN' already exists and is not an empty directory.\n"
          ],
          "name": "stdout"
        }
      ]
    },
    {
      "cell_type": "code",
      "metadata": {
        "id": "YFmT0tea2yt3",
        "colab_type": "code",
        "colab": {
          "base_uri": "https://localhost:8080/",
          "height": 34
        },
        "outputId": "eb574026-15af-40ce-9ff8-49510fa8bfac"
      },
      "source": [
        "cd CS114.K21.KHTN/Practices/Linear\\ Regression"
      ],
      "execution_count": 2,
      "outputs": [
        {
          "output_type": "stream",
          "text": [
            "/content/CS114.K21.KHTN/Practices/Linear Regression\n"
          ],
          "name": "stdout"
        }
      ]
    },
    {
      "cell_type": "code",
      "metadata": {
        "id": "Hd6epeZrqtSA",
        "colab_type": "code",
        "colab": {}
      },
      "source": [
        "import csv\n",
        "import numpy as np\n",
        "from sklearn.linear_model import LinearRegression\n",
        "import matplotlib.pyplot as plt"
      ],
      "execution_count": 0,
      "outputs": []
    },
    {
      "cell_type": "markdown",
      "metadata": {
        "id": "RddJfvIFqk4f",
        "colab_type": "text"
      },
      "source": [
        "## Load dataset"
      ]
    },
    {
      "cell_type": "code",
      "metadata": {
        "id": "Ca2PH09DnxvA",
        "colab_type": "code",
        "colab": {}
      },
      "source": [
        "X = []\n",
        "Y = []\n",
        "\n",
        "with open('data.txt','rt')as f:\n",
        "    data = csv.reader(f)\n",
        "    for row in data:\n",
        "        vector = np.array([1, float(row[0])*np.log(float(row[0])), float(row[0])**2, float(row[0])])\n",
        "        X.append(vector)\n",
        "        Y.append(float(row[1]))"
      ],
      "execution_count": 0,
      "outputs": []
    },
    {
      "cell_type": "markdown",
      "metadata": {
        "id": "ySJrJqsTsrL7",
        "colab_type": "text"
      },
      "source": [
        "Visualize 100 điểm dữ liệu, sử dụng Matplotlib"
      ]
    },
    {
      "cell_type": "code",
      "metadata": {
        "id": "x8avfk1Ioj-G",
        "colab_type": "code",
        "colab": {}
      },
      "source": [
        "#fig, ax = plt.subplots()\n",
        "#ax.scatter(X[:100], Y[:100])\n",
        "\n",
        "#ax.set_xlabel(\"Số lượng test\")\n",
        "#ax.set_ylabel(\"Thời gian thực thi\")\n",
        "#ax.set_title(\"Linear Regression Example\")\n",
        "#plt.show()"
      ],
      "execution_count": 0,
      "outputs": []
    },
    {
      "cell_type": "markdown",
      "metadata": {
        "id": "7SwVYhQ6regL",
        "colab_type": "text"
      },
      "source": [
        "## Chọn thuật toán Linear Regression và huấn luyện mô hình"
      ]
    },
    {
      "cell_type": "code",
      "metadata": {
        "id": "oPt5Bs_2o-0y",
        "colab_type": "code",
        "outputId": "43b5d39c-f4e7-44dc-823e-31c5ab5367b7",
        "colab": {
          "base_uri": "https://localhost:8080/",
          "height": 68
        }
      },
      "source": [
        "X = np.array(X).T\n",
        "Y = np.array(Y).T\n",
        "\n",
        "print(X.shape)\n",
        "print(Y.shape)\n",
        "model = LinearRegression()\n",
        "model.fit(X, Y)\n",
        "\n",
        "print(\"The linear function finding is {}n+{}\".format(model.coef_, model.intercept_))"
      ],
      "execution_count": 7,
      "outputs": [
        {
          "output_type": "stream",
          "text": [
            "(2726, 4)\n",
            "(2726,)\n",
            "The linear function finding is [ 0.00000000e+00  1.90489781e-08 -3.63131422e-16 -2.28179969e-08]n+0.002290984029029941\n"
          ],
          "name": "stdout"
        }
      ]
    },
    {
      "cell_type": "markdown",
      "metadata": {
        "id": "_R3Do8MMrwIW",
        "colab_type": "text"
      },
      "source": [
        "## Testing model"
      ]
    },
    {
      "cell_type": "code",
      "metadata": {
        "id": "KWMb_ARRpYSs",
        "colab_type": "code",
        "outputId": "48ad6a7f-744c-41c1-c5db-6e6956a1f62c",
        "colab": {
          "base_uri": "https://localhost:8080/",
          "height": 51
        }
      },
      "source": [
        "print(\"The accuracy of model on training set {}\".format(model.score(X, Y)))\n",
        "\n",
        "X_test = []\n",
        "Y_test = []\n",
        "with open('data_test.txt','rt')as f:\n",
        "    data = csv.reader(f)\n",
        "    for row in data:\n",
        "        vector = np.array([1, float(row[0])*np.log(float(row[0])), float(row[0])**2, float(row[0])])\n",
        "        X_test.append(vector)\n",
        "        Y_test.append(float(row[1]))\n",
        "\n",
        "print(\"The accuracy of model on training set {}\".format(model.score(X_test, Y_test)))"
      ],
      "execution_count": 8,
      "outputs": [
        {
          "output_type": "stream",
          "text": [
            "The accuracy of model on training set 0.9971510766336639\n",
            "The accuracy of model on training set 0.8926333103332956\n"
          ],
          "name": "stdout"
        }
      ]
    }
  ]
}